{
 "cells": [
  {
   "cell_type": "markdown",
   "id": "16d1f160-55fd-4683-86fd-c31d9a3b045c",
   "metadata": {},
   "source": [
    "Q1. Create a function which will take a list as an argument and return the product of all the numbers\n",
    "after creating a flat list.\n",
    "Use the below-given list as an argument for your function.\n",
    "list1 = [1,2,3,4, [44,55,66, True], False, (34,56,78,89,34), {1,2,3,3,2,1}, {1:34, \"key2\": [55, 67, 78, 89], 4: (45,\n",
    "22, 61, 34)}, [56, 'data science'], 'Machine Learning']"
   ]
  },
  {
   "cell_type": "code",
   "execution_count": 3,
   "id": "4d0679e5-7767-4ebc-860c-cbd6a2610582",
   "metadata": {},
   "outputs": [
    {
     "name": "stdout",
     "output_type": "stream",
     "text": [
      "[1, 2, 3, 4, [44, 55, 66, True], False, (34, 56, 78, 89, 34), {1, 2, 3}, {1: 34, 'key2': [55, 67, 78, 89], 4: (45, 22, 61, 34)}, [56, 'data science'], 'Machine Learning']\n",
      "FlatList [1, 2, 3, 4, 44, 55, 66, True, False, 34, 56, 78, 89, 34, 1, 2, 3, 1, 'key2', 4, 56, 'data science', 'Machine Learning']\n",
      "Product 2315262738624675840\n"
     ]
    }
   ],
   "source": [
    "#Solution\n",
    "\n",
    "def flat(list1):\n",
    "    list2 = []\n",
    "    #product = 1\n",
    "    for elements in list1:\n",
    "        if type(elements) is list:\n",
    "            for item1 in elements:\n",
    "                list2.append(item1)\n",
    "        elif type(elements) is tuple:\n",
    "            for item2 in elements:\n",
    "                list2.append(item2)\n",
    "        elif type(elements) is dict:\n",
    "            for item3 in elements:\n",
    "                list2.append(item3)\n",
    "                if item3 is tuple:\n",
    "                    for i_1 in item3:\n",
    "                        list2.append(i_1)\n",
    "                if item3 is list:\n",
    "                    for i_2 in item3:\n",
    "                        list2.append(i_2)\n",
    "        elif type(elements) is set:\n",
    "            for item4 in elements:\n",
    "                list2.append(item4)\n",
    "        elif type(elements) is bool:\n",
    "            list2.append(elements)\n",
    "        else:\n",
    "            list2.append(elements)\n",
    "    return list2\n",
    "\n",
    "list1 = [1,2,3,4, [44,55,66, True], False, (34,56,78,89,34), {1,2,3,3,2,1}, {1:34, \"key2\": [55, 67, 78, 89], 4: (45,22, 61, 34)}, [56, 'data science'], 'Machine Learning']\n",
    "\n",
    "print(list1)\n",
    "print('FlatList',flat(list1))\n",
    "Flat_list1 = flat(list1)\n",
    "product = 1\n",
    "for item_1 in Flat_list1:\n",
    "    if type(item_1) == int:\n",
    "        product = product*item_1\n",
    "        \n",
    "\n",
    "print(\"Product\",product)"
   ]
  },
  {
   "cell_type": "markdown",
   "id": "f3ab8fdc-c800-4e2f-80a8-5b32295fd77e",
   "metadata": {},
   "source": [
    "Q2. Write a python program for encrypting a message sent to you by your friend. The logic of encryption\n",
    "should be such that, for a the output should be z. For b, the output should be y. For c, the output should\n",
    "be x respectively. Also, the whitespace should be replaced with a dollar sign. Keep the punctuation\n",
    "marks unchanged.\n",
    "Input Sentence: I want to become a Data Scientist.\n",
    "Encrypt the above input sentence using the program you just created.\n",
    "Note: Convert the given input sentence into lowercase before encrypting. The final output should be\n",
    "lowercase."
   ]
  },
  {
   "cell_type": "code",
   "execution_count": 4,
   "id": "cb38adaf-328a-4867-bb3a-5256cbb6bc11",
   "metadata": {},
   "outputs": [
    {
     "name": "stdin",
     "output_type": "stream",
     "text": [
      " Original msg :  I want to become a Data Scientist.\n"
     ]
    },
    {
     "name": "stdout",
     "output_type": "stream",
     "text": [
      "Original_msg conver into Lowercase_letters :  i want to become a data scientist.\n",
      "Encrypted massage : \n",
      "r $ d z m g $ g l $ y v x l n v $ z $ w z g z $ h x r v m g r h g None\n"
     ]
    }
   ],
   "source": [
    "#Solution\n",
    "\n",
    "def encrypted_msg(string):\n",
    "    for j in string:\n",
    "        if j == ' ':\n",
    "            print(\"$ \",end='')\n",
    "        else:\n",
    "            for i in range(97,122):\n",
    "                x = chr(i)\n",
    "                if x==j:\n",
    "                    ch = 219 - i \n",
    "                    print(chr(ch),end=' ')\n",
    "       Original_msg = input(\" Original msg : \")\n",
    "string = Original_msg.lower()\n",
    "print(\"Original_msg conver into Lowercase_letters : \",string)\n",
    "print(\"Encrypted massage : \")\n",
    "print(encrypted_msg(string))"
   ]
  },
  {
   "cell_type": "code",
   "execution_count": null,
   "id": "a6d1e2a6-c0b6-4505-aaeb-c3b85c9dda05",
   "metadata": {},
   "outputs": [],
   "source": []
  }
 ],
 "metadata": {
  "kernelspec": {
   "display_name": "Python 3 (ipykernel)",
   "language": "python",
   "name": "python3"
  },
  "language_info": {
   "codemirror_mode": {
    "name": "ipython",
    "version": 3
   },
   "file_extension": ".py",
   "mimetype": "text/x-python",
   "name": "python",
   "nbconvert_exporter": "python",
   "pygments_lexer": "ipython3",
   "version": "3.10.8"
  }
 },
 "nbformat": 4,
 "nbformat_minor": 5
}
